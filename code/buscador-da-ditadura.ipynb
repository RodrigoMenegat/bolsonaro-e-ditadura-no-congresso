{
 "cells": [
  {
   "cell_type": "markdown",
   "metadata": {},
   "source": [
    "# buscador-da-ditadura\n",
    "Esse script recebe diversos arquivos .csv, já limpos e bem formatados, e detecta quais deles contém menções à Ditadura Militar."
   ]
  },
  {
   "cell_type": "markdown",
   "metadata": {
    "collapsed": true
   },
   "source": [
    "#### Importa pacotes"
   ]
  },
  {
   "cell_type": "code",
   "execution_count": 1,
   "metadata": {
    "collapsed": true
   },
   "outputs": [],
   "source": [
    "import datetime\n",
    "import os\n",
    "import pandas as pd\n",
    "import re\n",
    "from unidecode import unidecode"
   ]
  },
  {
   "cell_type": "markdown",
   "metadata": {},
   "source": [
    "#### Lê os dados externos e formata strings"
   ]
  },
  {
   "cell_type": "code",
   "execution_count": 2,
   "metadata": {
    "collapsed": true
   },
   "outputs": [],
   "source": [
    "df = pd.read_csv(\"../data/csvs/discursos_jair_bolsonaro.csv\")"
   ]
  },
  {
   "cell_type": "code",
   "execution_count": 3,
   "metadata": {
    "collapsed": true
   },
   "outputs": [],
   "source": [
    "df[\"CLEAN_CONTENT_LOWERCASE\"]    = df.CLEAN_CONTENT.str.lower()\n",
    "df[\"FULL_CLEAN_QUOTE_LOWERCASE\"] = df.FULL_CLEAN_QUOTE.str.lower()"
   ]
  },
  {
   "cell_type": "markdown",
   "metadata": {},
   "source": [
    "#### Define palavras chave para buscar no discurso\n",
    "Para encontrar pronunciamentos em que Bolsonaro mencionou a Ditadura Militar, vamos definir uma sério de palavras-chave relacionadas ao tema e checar se elas foram usadas em cada um dos discursos coletados.\n",
    "\n",
    "Importante notar que vamos passar um *unidecode* nas palavras, para que elas ficam sem caracteres especiais, da mesma maneira que a transcrição dos discursos."
   ]
  },
  {
   "cell_type": "markdown",
   "metadata": {},
   "source": [
    "#### Descobre quais palavras-chave foram usadas"
   ]
  },
  {
   "cell_type": "code",
   "execution_count": 4,
   "metadata": {
    "code_folding": [],
    "collapsed": true
   },
   "outputs": [],
   "source": [
    "# Descobre quais palavras foram encontradas em cada discurso\n",
    "def find_words(string, keywords):\n",
    "    \n",
    "    used_words = [ ]\n",
    "    \n",
    "    for word in keywords:\n",
    "        \n",
    "        regex = re.compile( \"\\\\b\" + unidecode(word) + \"\\\\b\" )\n",
    "        matches = re.findall( regex, string.lower() )\n",
    "        \n",
    "        if matches != [ ] :\n",
    "            matches = set(matches)\n",
    "            used_words.extend( matches )\n",
    "            \n",
    "    return used_words"
   ]
  },
  {
   "cell_type": "markdown",
   "metadata": {},
   "source": [
    "#### Encapsula as funções acima em métodos df.apply"
   ]
  },
  {
   "cell_type": "code",
   "execution_count": 5,
   "metadata": {
    "collapsed": true
   },
   "outputs": [],
   "source": [
    "def apply_find_words(row, keywords):\n",
    "    \n",
    "    used_words = find_words(row.FULL_CLEAN_QUOTE, keywords)\n",
    "    \n",
    "    if used_words != [ ]:\n",
    "        mentions_keywords = 1\n",
    "    else:\n",
    "        mentions_keywords = 0\n",
    "        \n",
    "    return pd.Series({\n",
    "        \"MENTIONS_KEYWORDS\" : mentions_keywords,\n",
    "        \"USED_WORDS\"        : used_words\n",
    "    })"
   ]
  },
  {
   "cell_type": "markdown",
   "metadata": {},
   "source": [
    "#### Executa a operação"
   ]
  },
  {
   "cell_type": "code",
   "execution_count": 6,
   "metadata": {
    "code_folding": [
     2
    ],
    "collapsed": true
   },
   "outputs": [],
   "source": [
    "def run_script():\n",
    "    \n",
    "    df = pd.read_csv(\"../data/csvs/discursos_jair_bolsonaro.csv\")\n",
    "    \n",
    "    df = df[ df.SESSION_TYPE != 'COMISSÃO ESPECIAL (FORA DO PLENÁRIO)' ]\n",
    "    \n",
    "    keywords = [ \n",
    "\n",
    "        # Termos genéricos para falar do proceso histórico\n",
    "        \"31 de março\",\n",
    "        \"1964\",\n",
    "        \"64\",\n",
    "        \"ai-5\",\n",
    "        \"anistia\",\n",
    "        \"contragolpe\",\n",
    "        \"ditadura\",\n",
    "        \"golpe\",\n",
    "        \"governo militar\",\n",
    "        \"regime militar\",\n",
    "        \"revolução\",\n",
    "\n",
    "        # Citações aos presidentes militares ou outras lideranças\n",
    "        \"alberto mendes junior\",\n",
    "        \"castelo branco\",\n",
    "        \"castello branco\",\n",
    "        \"costa e silva\",\n",
    "        \"mario kozel filho\",\n",
    "        \"médici\",\n",
    "        \"geisel\",\n",
    "        \"figueiredo\",\n",
    "        \"sergio fleury\",\n",
    "        \"ustra\",\n",
    "\n",
    "        # TO DO:\n",
    "        # Recuperar lista com nomes dos 377 nomes apontados\n",
    "        # como responsáveis por violações de Direitos Humanos\n",
    "        # na Comissão da Verdade\n",
    "\n",
    "        # Nomes de inimigos do Estado durante a ditadura\n",
    "        # ou de episódios de resistência ao regime\n",
    "        \"aln\",\n",
    "        \"araguaia\",\n",
    "        \"colina\",\n",
    "        \"guerrilha\",\n",
    "        \"lamarca\",\n",
    "        \"m3g\",\n",
    "        \"marighella\",\n",
    "        \"molipo\",\n",
    "        \"mr-8\",\n",
    "        \"mr-21\",\n",
    "        \"mr-26\",\n",
    "        \"mrmn\",\n",
    "        \"prt\",\n",
    "        # \"ran\",\n",
    "        \"var-palmares\",\n",
    "        \"vpr\",\n",
    "\n",
    "        # Instituições\n",
    "        \"comissão parlamentar memória, verdade e justiça\"\n",
    "        \"comissao nacional da verdade\",\n",
    "        \"comissao da verdade\",\n",
    "        \"doi-codi\",\n",
    "        \"dops\",\n",
    "        \"sni\",\n",
    "\n",
    "        # Nome de outras pessoas direta ou indiretamente envolvidas com o regime\n",
    "        \"elbrick\", # Charles Burke, embaixador americano\n",
    "        \"herzog\",\n",
    "        \"vladmir herzog\",\n",
    "        \"vladimir herzog\",\n",
    "        \"joao goulart\",\n",
    "        \"goulart\",\n",
    "        \"jango\",\n",
    "\n",
    "    ]\n",
    "    \n",
    "    found_words = df.apply(apply_find_words, args = (keywords,), axis = 1)\n",
    "    df = df.join(found_words)\n",
    "    \n",
    "    now = str( datetime.datetime.now() )\n",
    "    fp = f\"../data/csvs/discursos_jair_bolsonaro_classificados_{now}.csv\"\n",
    "    df.to_csv(fp, index = False)\n",
    "    \n",
    "    return df"
   ]
  },
  {
   "cell_type": "code",
   "execution_count": 7,
   "metadata": {
    "collapsed": true
   },
   "outputs": [],
   "source": [
    "df = run_script()"
   ]
  }
 ],
 "metadata": {
  "kernelspec": {
   "display_name": "Python 3",
   "language": "python",
   "name": "python3"
  },
  "language_info": {
   "codemirror_mode": {
    "name": "ipython",
    "version": 3
   },
   "file_extension": ".py",
   "mimetype": "text/x-python",
   "name": "python",
   "nbconvert_exporter": "python",
   "pygments_lexer": "ipython3",
   "version": "3.6.3"
  }
 },
 "nbformat": 4,
 "nbformat_minor": 2
}
